{
 "cells": [
  {
   "cell_type": "markdown",
   "id": "cca9271d",
   "metadata": {},
   "source": [
    "We can set our preferences for our electives manually here, possible options are:\n",
    "\n",
    "* **gift**: Yes, No. *Yes meaning that a student does a Global Immersion Field Trip hence the credit cap is reduced by 11.*\n",
    "\n",
    "* **extra**: Yes, No. *Yes meaning that a student wants to take the maximum amount of electives based on their credit cap.* \n",
    "\n",
    "* **subject**: All, Strategy & Entrepreneurship, Marketing, Finance, Management Science & Operations, Organisational Behaviour, Accounting, Economics. \n",
    "\n",
    "* **experience**: Overall, Learning Experience, Coursework, Class Participation, Prior Knowledge. "
   ]
  },
  {
   "cell_type": "code",
   "execution_count": 1,
   "id": "d2d754df",
   "metadata": {},
   "outputs": [],
   "source": [
    "gifts = \"Yes\"\n",
    "extra = \"Yes\"\n",
    "subject = \"Marketing\"\n",
    "experience = \"Overall\""
   ]
  },
  {
   "cell_type": "markdown",
   "id": "b92d5879",
   "metadata": {},
   "source": [
    "# ELECTIVE SELECTION OPTIMISATION\n",
    "#### Decision Analytics and Modelling: Study Group 6 \n",
    "## Introduction\n",
    "\n",
    "LBS students are faced with an important decision during their master's programme: **choosing their electives**. From a pool of 60 courses, students have to identify where their interests lie, what they want their schedule to look like in the upcoming months, what type of evaluation they want to be scored on, whether to opt for more technical or managerial courses, what they value from courses at LBS... And all of this has to be decided by long and tedious reading and analysing webpages with information regarding each course. \n",
    "\n",
    "To make this process a little simpler, adaptable and less hour intensive, we have decided to build an **optimisation tool that includes student's preferences and inclinations in the elective selection process**. To build it, the tool considers:\n",
    "- The total amount of extra credits allowed for each student (whether they take a GIFT or want to max out credits or not)\n",
    "- The subject area of each course\n",
    "- The term and type of scheduling for each elective\n",
    "- The weight that students give to each of the 7 evaluation scores of electives captured in previous years\n",
    "\n",
    "From those data points, the model will optimise to choose electives with the highest average evaluation scores given the weighst, and give a suggestion to students about which electives to choose. *But first, we created a comprehensive data set that allowed us to carry out the optimisation.*"
   ]
  },
  {
   "cell_type": "code",
   "execution_count": 2,
   "id": "8c086322",
   "metadata": {},
   "outputs": [],
   "source": [
    "import pandas as pd\n",
    "import numpy as np\n",
    "\n",
    "# lOAD DATASET\n",
    "data = pd.read_excel(\"Clean DAM Dataset.xlsx\")"
   ]
  },
  {
   "cell_type": "markdown",
   "id": "0fba28d0",
   "metadata": {},
   "source": [
    "## Data Exploration"
   ]
  },
  {
   "cell_type": "code",
   "execution_count": 3,
   "id": "c88ee6cd",
   "metadata": {
    "scrolled": false
   },
   "outputs": [
    {
     "data": {
      "text/plain": [
       "Index(['Name', 'Number', 'Stream', 'Credit', 'Subject', 'Faculty', 'Term',\n",
       "       'Schedule', 'Weekday', 'Start Time', 'End Time', 'Start Time 2',\n",
       "       'End Time 2', 'Mon 8:15', 'Mon 12:45', 'Mon 16:00', 'Mon 19:00',\n",
       "       'Tue 8:15', 'Tue 12:45', 'Tue 16:00', 'Tue 19:00', 'Wed 8:15',\n",
       "       'Wed 12:45', 'Wed 16:00', 'Wed 19:00', 'Thu 8:15', 'Thu 12:45',\n",
       "       'Thu 16:00', 'Thu 19:00', 'Fri 8:15', 'Fri 12:45', 'Fri 16:00',\n",
       "       'Fri 19:00', 'Sat 8:15', 'Sat 12:45', 'Sat 16:00', 'Sat 19:00',\n",
       "       'Block Week Number', 'Q1', 'Q2', 'Q3', 'Q4', 'Q5', 'Q6', 'Q7',\n",
       "       'Comment'],\n",
       "      dtype='object')"
      ]
     },
     "execution_count": 3,
     "metadata": {},
     "output_type": "execute_result"
    }
   ],
   "source": [
    "data.columns"
   ]
  },
  {
   "cell_type": "markdown",
   "id": "0c929350",
   "metadata": {},
   "source": [
    "There are columns in our dataset."
   ]
  },
  {
   "cell_type": "code",
   "execution_count": 4,
   "id": "d0022761",
   "metadata": {},
   "outputs": [
    {
     "data": {
      "text/plain": [
       "60"
      ]
     },
     "execution_count": 4,
     "metadata": {},
     "output_type": "execute_result"
    }
   ],
   "source": [
    "len(data[\"Name\"].unique())"
   ]
  },
  {
   "cell_type": "markdown",
   "id": "c3aef396",
   "metadata": {},
   "source": [
    "There are a total of 60 unique electives."
   ]
  },
  {
   "cell_type": "code",
   "execution_count": 5,
   "id": "9b5dca13",
   "metadata": {},
   "outputs": [
    {
     "data": {
      "text/plain": [
       "array(['SUM', 'SPR', 'SUM '], dtype=object)"
      ]
     },
     "execution_count": 5,
     "metadata": {},
     "output_type": "execute_result"
    }
   ],
   "source": [
    "data[\"Term\"].unique()"
   ]
  },
  {
   "cell_type": "markdown",
   "id": "9de12d2e",
   "metadata": {},
   "source": [
    "There are a total of 3 terms for our electives."
   ]
  },
  {
   "cell_type": "code",
   "execution_count": 6,
   "id": "80885775",
   "metadata": {
    "scrolled": true
   },
   "outputs": [
    {
     "data": {
      "text/plain": [
       "array(['Strategy & Entrepreneurship', 'Marketing', 'Finance',\n",
       "       'Management Science & Operations', 'Organisational Behaviour',\n",
       "       'Accounting', 'Economics'], dtype=object)"
      ]
     },
     "execution_count": 6,
     "metadata": {},
     "output_type": "execute_result"
    }
   ],
   "source": [
    "data[\"Subject\"].unique()"
   ]
  },
  {
   "cell_type": "markdown",
   "id": "1ea6722c",
   "metadata": {},
   "source": [
    "There are 7 departments/subjects for our electives."
   ]
  },
  {
   "cell_type": "code",
   "execution_count": 7,
   "id": "2e584168",
   "metadata": {},
   "outputs": [
    {
     "data": {
      "text/plain": [
       "array(['5 Week', 'Block Week', 'Day', 'Modular ', 'Irregular Block Week',\n",
       "       'Modular', 'Evening'], dtype=object)"
      ]
     },
     "execution_count": 7,
     "metadata": {},
     "output_type": "execute_result"
    }
   ],
   "source": [
    "data[\"Schedule\"].unique()"
   ]
  },
  {
   "cell_type": "markdown",
   "id": "8a0f1f40",
   "metadata": {},
   "source": [
    "There are a total of 7 types of schedules. There are only one entries for \"Irregular Block Week\" which is Entrepreneurship Summmer School electives."
   ]
  },
  {
   "cell_type": "code",
   "execution_count": 8,
   "id": "7467304f",
   "metadata": {},
   "outputs": [
    {
     "data": {
      "text/plain": [
       "array([11,  6])"
      ]
     },
     "execution_count": 8,
     "metadata": {},
     "output_type": "execute_result"
    }
   ],
   "source": [
    "data[\"Credit\"].unique()"
   ]
  },
  {
   "cell_type": "markdown",
   "id": "ecacbe02",
   "metadata": {},
   "source": [
    "There are only two types of credits."
   ]
  },
  {
   "cell_type": "code",
   "execution_count": 9,
   "id": "d45ae709",
   "metadata": {},
   "outputs": [
    {
     "data": {
      "text/html": [
       "<div>\n",
       "<style scoped>\n",
       "    .dataframe tbody tr th:only-of-type {\n",
       "        vertical-align: middle;\n",
       "    }\n",
       "\n",
       "    .dataframe tbody tr th {\n",
       "        vertical-align: top;\n",
       "    }\n",
       "\n",
       "    .dataframe thead th {\n",
       "        text-align: right;\n",
       "    }\n",
       "</style>\n",
       "<table border=\"1\" class=\"dataframe\">\n",
       "  <thead>\n",
       "    <tr style=\"text-align: right;\">\n",
       "      <th></th>\n",
       "      <th>Name</th>\n",
       "      <th>Number</th>\n",
       "      <th>Stream</th>\n",
       "      <th>Credit</th>\n",
       "      <th>Subject</th>\n",
       "      <th>Faculty</th>\n",
       "      <th>Term</th>\n",
       "      <th>Schedule</th>\n",
       "      <th>Weekday</th>\n",
       "      <th>Start Time</th>\n",
       "      <th>...</th>\n",
       "      <th>Sat 19:00</th>\n",
       "      <th>Block Week Number</th>\n",
       "      <th>Q1</th>\n",
       "      <th>Q2</th>\n",
       "      <th>Q3</th>\n",
       "      <th>Q4</th>\n",
       "      <th>Q5</th>\n",
       "      <th>Q6</th>\n",
       "      <th>Q7</th>\n",
       "      <th>Comment</th>\n",
       "    </tr>\n",
       "  </thead>\n",
       "  <tbody>\n",
       "    <tr>\n",
       "      <th>0</th>\n",
       "      <td>Advanced Competitive Strategy</td>\n",
       "      <td>E492</td>\n",
       "      <td>A</td>\n",
       "      <td>11</td>\n",
       "      <td>Strategy &amp; Entrepreneurship</td>\n",
       "      <td>Sendil Ethiraj</td>\n",
       "      <td>SUM</td>\n",
       "      <td>5 Week</td>\n",
       "      <td>Tue, Thu</td>\n",
       "      <td>12:45:00</td>\n",
       "      <td>...</td>\n",
       "      <td>0</td>\n",
       "      <td>NaN</td>\n",
       "      <td>4.670000</td>\n",
       "      <td>4.83000</td>\n",
       "      <td>4.830000</td>\n",
       "      <td>4.500000</td>\n",
       "      <td>4.830000</td>\n",
       "      <td>4.670000</td>\n",
       "      <td>2.670000</td>\n",
       "      <td>NaN</td>\n",
       "    </tr>\n",
       "    <tr>\n",
       "      <th>1</th>\n",
       "      <td>Advanced Competitive Strategy</td>\n",
       "      <td>E492</td>\n",
       "      <td>B</td>\n",
       "      <td>11</td>\n",
       "      <td>Strategy &amp; Entrepreneurship</td>\n",
       "      <td>Sendil Ethiraj</td>\n",
       "      <td>SUM</td>\n",
       "      <td>Block Week</td>\n",
       "      <td>NaN</td>\n",
       "      <td>NaN</td>\n",
       "      <td>...</td>\n",
       "      <td>0</td>\n",
       "      <td>10.0</td>\n",
       "      <td>3.560000</td>\n",
       "      <td>3.81000</td>\n",
       "      <td>3.440000</td>\n",
       "      <td>3.810000</td>\n",
       "      <td>3.800000</td>\n",
       "      <td>4.250000</td>\n",
       "      <td>3.000000</td>\n",
       "      <td>NaN</td>\n",
       "    </tr>\n",
       "    <tr>\n",
       "      <th>2</th>\n",
       "      <td>Advanced Marketing Strategy</td>\n",
       "      <td>E217</td>\n",
       "      <td>A</td>\n",
       "      <td>11</td>\n",
       "      <td>Marketing</td>\n",
       "      <td>Rob Waiser</td>\n",
       "      <td>SUM</td>\n",
       "      <td>Block Week</td>\n",
       "      <td>NaN</td>\n",
       "      <td>NaN</td>\n",
       "      <td>...</td>\n",
       "      <td>0</td>\n",
       "      <td>9.0</td>\n",
       "      <td>4.530000</td>\n",
       "      <td>4.58000</td>\n",
       "      <td>4.580000</td>\n",
       "      <td>4.360000</td>\n",
       "      <td>4.380000</td>\n",
       "      <td>4.500000</td>\n",
       "      <td>3.530000</td>\n",
       "      <td>NaN</td>\n",
       "    </tr>\n",
       "    <tr>\n",
       "      <th>3</th>\n",
       "      <td>AI in Marketing</td>\n",
       "      <td>E612</td>\n",
       "      <td>B</td>\n",
       "      <td>11</td>\n",
       "      <td>Marketing</td>\n",
       "      <td>Lil Mohan</td>\n",
       "      <td>SUM</td>\n",
       "      <td>5 Week</td>\n",
       "      <td>Mon, Wed</td>\n",
       "      <td>16:00:00</td>\n",
       "      <td>...</td>\n",
       "      <td>0</td>\n",
       "      <td>NaN</td>\n",
       "      <td>4.175000</td>\n",
       "      <td>4.24500</td>\n",
       "      <td>4.186667</td>\n",
       "      <td>4.176667</td>\n",
       "      <td>4.180000</td>\n",
       "      <td>4.133333</td>\n",
       "      <td>2.768333</td>\n",
       "      <td>NaN</td>\n",
       "    </tr>\n",
       "    <tr>\n",
       "      <th>4</th>\n",
       "      <td>Alternative Credit Investing</td>\n",
       "      <td>E609</td>\n",
       "      <td>C</td>\n",
       "      <td>6</td>\n",
       "      <td>Finance</td>\n",
       "      <td>Alon Avner</td>\n",
       "      <td>SUM</td>\n",
       "      <td>5 Week</td>\n",
       "      <td>Mon</td>\n",
       "      <td>12:45:00</td>\n",
       "      <td>...</td>\n",
       "      <td>0</td>\n",
       "      <td>NaN</td>\n",
       "      <td>4.261441</td>\n",
       "      <td>4.32322</td>\n",
       "      <td>4.392458</td>\n",
       "      <td>4.394153</td>\n",
       "      <td>4.296186</td>\n",
       "      <td>4.410593</td>\n",
       "      <td>2.812119</td>\n",
       "      <td>By Department</td>\n",
       "    </tr>\n",
       "  </tbody>\n",
       "</table>\n",
       "<p>5 rows × 46 columns</p>\n",
       "</div>"
      ],
      "text/plain": [
       "                            Name Number Stream  Credit  \\\n",
       "0  Advanced Competitive Strategy   E492      A      11   \n",
       "1  Advanced Competitive Strategy   E492      B      11   \n",
       "2    Advanced Marketing Strategy   E217      A      11   \n",
       "3                AI in Marketing   E612      B      11   \n",
       "4   Alternative Credit Investing   E609      C       6   \n",
       "\n",
       "                       Subject         Faculty Term    Schedule   Weekday  \\\n",
       "0  Strategy & Entrepreneurship  Sendil Ethiraj  SUM      5 Week  Tue, Thu   \n",
       "1  Strategy & Entrepreneurship  Sendil Ethiraj  SUM  Block Week       NaN   \n",
       "2                    Marketing      Rob Waiser  SUM  Block Week       NaN   \n",
       "3                    Marketing       Lil Mohan  SUM      5 Week  Mon, Wed   \n",
       "4                      Finance      Alon Avner  SUM      5 Week       Mon   \n",
       "\n",
       "  Start Time  ... Sat 19:00 Block Week Number        Q1       Q2        Q3  \\\n",
       "0   12:45:00  ...         0               NaN  4.670000  4.83000  4.830000   \n",
       "1        NaN  ...         0              10.0  3.560000  3.81000  3.440000   \n",
       "2        NaN  ...         0               9.0  4.530000  4.58000  4.580000   \n",
       "3   16:00:00  ...         0               NaN  4.175000  4.24500  4.186667   \n",
       "4   12:45:00  ...         0               NaN  4.261441  4.32322  4.392458   \n",
       "\n",
       "         Q4        Q5        Q6        Q7        Comment  \n",
       "0  4.500000  4.830000  4.670000  2.670000            NaN  \n",
       "1  3.810000  3.800000  4.250000  3.000000            NaN  \n",
       "2  4.360000  4.380000  4.500000  3.530000            NaN  \n",
       "3  4.176667  4.180000  4.133333  2.768333            NaN  \n",
       "4  4.394153  4.296186  4.410593  2.812119  By Department  \n",
       "\n",
       "[5 rows x 46 columns]"
      ]
     },
     "execution_count": 9,
     "metadata": {},
     "output_type": "execute_result"
    }
   ],
   "source": [
    "data.head()"
   ]
  },
  {
   "cell_type": "markdown",
   "id": "a6be6c56",
   "metadata": {},
   "source": [
    "From the 5 rows shown above, we can see that the dataset created has 46 columns with all information required for building the model. This data was gathered mostly from the Enrolment Management System webpage (https://ems.london.edu/CourseDirectory) and includes all 60 courses offered to Master's in Analytics and Management students in the 2021-2022 academic year. The columns describe:\n",
    "- **Elective ID**: The columns 'Name', 'Number' and 'Stream' help identify the specific elective that is being referred to. \n",
    "- **Credits**: The 'Credit' column indicates whether they are a 6 or 11 credit course. \n",
    "- **Subject and Faculty**: They describe the area of study and teaching professor for each course. \n",
    "- **Schedule**: The columns 'Term'. 'Schedule', 'Weekday', 'Start Time', 'End Time', 'Block Week Number' and the following 24 columns are there to help us identify when each of the electives is happening in order to build a functional schedule. \n",
    "- **Evaluation scores**: 7 questions posed to students after finishing their elective modules evaluate the student satisfaction, and are saved on the data set for evaluation. The mean, maximum and minimum values are shown hereafter for all seven. "
   ]
  },
  {
   "cell_type": "code",
   "execution_count": 10,
   "id": "aac72fec",
   "metadata": {
    "scrolled": true
   },
   "outputs": [
    {
     "data": {
      "text/html": [
       "<div>\n",
       "<style scoped>\n",
       "    .dataframe tbody tr th:only-of-type {\n",
       "        vertical-align: middle;\n",
       "    }\n",
       "\n",
       "    .dataframe tbody tr th {\n",
       "        vertical-align: top;\n",
       "    }\n",
       "\n",
       "    .dataframe thead th {\n",
       "        text-align: right;\n",
       "    }\n",
       "</style>\n",
       "<table border=\"1\" class=\"dataframe\">\n",
       "  <thead>\n",
       "    <tr style=\"text-align: right;\">\n",
       "      <th></th>\n",
       "      <th>Q1</th>\n",
       "      <th>Q2</th>\n",
       "      <th>Q3</th>\n",
       "      <th>Q4</th>\n",
       "      <th>Q5</th>\n",
       "      <th>Q6</th>\n",
       "      <th>Q7</th>\n",
       "    </tr>\n",
       "  </thead>\n",
       "  <tbody>\n",
       "    <tr>\n",
       "      <th>count</th>\n",
       "      <td>73.000000</td>\n",
       "      <td>73.000000</td>\n",
       "      <td>73.000000</td>\n",
       "      <td>73.000000</td>\n",
       "      <td>73.000000</td>\n",
       "      <td>73.000000</td>\n",
       "      <td>73.000000</td>\n",
       "    </tr>\n",
       "    <tr>\n",
       "      <th>mean</th>\n",
       "      <td>4.264561</td>\n",
       "      <td>4.330109</td>\n",
       "      <td>4.388946</td>\n",
       "      <td>4.390055</td>\n",
       "      <td>4.305673</td>\n",
       "      <td>4.411855</td>\n",
       "      <td>2.823919</td>\n",
       "    </tr>\n",
       "    <tr>\n",
       "      <th>std</th>\n",
       "      <td>0.362304</td>\n",
       "      <td>0.386743</td>\n",
       "      <td>0.437559</td>\n",
       "      <td>0.384477</td>\n",
       "      <td>0.390825</td>\n",
       "      <td>0.396707</td>\n",
       "      <td>0.281375</td>\n",
       "    </tr>\n",
       "    <tr>\n",
       "      <th>min</th>\n",
       "      <td>3.260000</td>\n",
       "      <td>2.870000</td>\n",
       "      <td>2.680000</td>\n",
       "      <td>3.090000</td>\n",
       "      <td>2.880000</td>\n",
       "      <td>2.670000</td>\n",
       "      <td>1.840000</td>\n",
       "    </tr>\n",
       "    <tr>\n",
       "      <th>25%</th>\n",
       "      <td>4.115000</td>\n",
       "      <td>4.172269</td>\n",
       "      <td>4.210000</td>\n",
       "      <td>4.230000</td>\n",
       "      <td>4.160000</td>\n",
       "      <td>4.250000</td>\n",
       "      <td>2.710000</td>\n",
       "    </tr>\n",
       "    <tr>\n",
       "      <th>50%</th>\n",
       "      <td>4.290000</td>\n",
       "      <td>4.380000</td>\n",
       "      <td>4.520000</td>\n",
       "      <td>4.408077</td>\n",
       "      <td>4.310000</td>\n",
       "      <td>4.449744</td>\n",
       "      <td>2.812119</td>\n",
       "    </tr>\n",
       "    <tr>\n",
       "      <th>75%</th>\n",
       "      <td>4.530000</td>\n",
       "      <td>4.580000</td>\n",
       "      <td>4.660000</td>\n",
       "      <td>4.670000</td>\n",
       "      <td>4.590000</td>\n",
       "      <td>4.710000</td>\n",
       "      <td>3.000000</td>\n",
       "    </tr>\n",
       "    <tr>\n",
       "      <th>max</th>\n",
       "      <td>4.890000</td>\n",
       "      <td>5.000000</td>\n",
       "      <td>5.000000</td>\n",
       "      <td>5.000000</td>\n",
       "      <td>5.000000</td>\n",
       "      <td>5.000000</td>\n",
       "      <td>3.530000</td>\n",
       "    </tr>\n",
       "  </tbody>\n",
       "</table>\n",
       "</div>"
      ],
      "text/plain": [
       "              Q1         Q2         Q3         Q4         Q5         Q6  \\\n",
       "count  73.000000  73.000000  73.000000  73.000000  73.000000  73.000000   \n",
       "mean    4.264561   4.330109   4.388946   4.390055   4.305673   4.411855   \n",
       "std     0.362304   0.386743   0.437559   0.384477   0.390825   0.396707   \n",
       "min     3.260000   2.870000   2.680000   3.090000   2.880000   2.670000   \n",
       "25%     4.115000   4.172269   4.210000   4.230000   4.160000   4.250000   \n",
       "50%     4.290000   4.380000   4.520000   4.408077   4.310000   4.449744   \n",
       "75%     4.530000   4.580000   4.660000   4.670000   4.590000   4.710000   \n",
       "max     4.890000   5.000000   5.000000   5.000000   5.000000   5.000000   \n",
       "\n",
       "              Q7  \n",
       "count  73.000000  \n",
       "mean    2.823919  \n",
       "std     0.281375  \n",
       "min     1.840000  \n",
       "25%     2.710000  \n",
       "50%     2.812119  \n",
       "75%     3.000000  \n",
       "max     3.530000  "
      ]
     },
     "execution_count": 10,
     "metadata": {},
     "output_type": "execute_result"
    }
   ],
   "source": [
    "data[[\"Q1\",\"Q2\",\"Q3\",\"Q4\",\"Q5\",\"Q6\",\"Q7\"]].describe()"
   ]
  },
  {
   "cell_type": "markdown",
   "id": "20d0d962",
   "metadata": {},
   "source": [
    "This table shows the distribution of evaluation score values, seperately by questions."
   ]
  },
  {
   "cell_type": "markdown",
   "id": "b39c7705",
   "metadata": {},
   "source": [
    "## Data Transformation"
   ]
  },
  {
   "cell_type": "code",
   "execution_count": 11,
   "id": "bc571fd2",
   "metadata": {},
   "outputs": [],
   "source": [
    "data.index = data[\"Name\"] + \" \" + data[\"Stream\"].fillna(\"\")"
   ]
  },
  {
   "cell_type": "markdown",
   "id": "44dfb94f",
   "metadata": {},
   "source": [
    "## Model Building\n",
    "\n",
    "Having created a comprehensive data set, we know go onto model building, which consists of creating our decision variables, our constraints (both must-have constraints and preference-related constraints) and model optimisation. "
   ]
  },
  {
   "cell_type": "code",
   "execution_count": 12,
   "id": "1fcbf4c8",
   "metadata": {},
   "outputs": [],
   "source": [
    "import gurobipy as gp\n",
    "from gurobipy import GRB,quicksum"
   ]
  },
  {
   "cell_type": "code",
   "execution_count": 13,
   "id": "ed184b99",
   "metadata": {
    "scrolled": true
   },
   "outputs": [
    {
     "name": "stdout",
     "output_type": "stream",
     "text": [
      "Set parameter Username\n",
      "Academic license - for non-commercial use only - expires 2024-08-16\n"
     ]
    }
   ],
   "source": [
    "m = gp.Model(\"electives\")"
   ]
  },
  {
   "cell_type": "markdown",
   "id": "0a90fdd5",
   "metadata": {},
   "source": [
    "### Decision Variables\n",
    "\n",
    "Our decision variables are whether to take an elective or not, so it would be a binary variable for each course:\n",
    "\n",
    "$$ x_{course}$$\n",
    "\n",
    "where x is binary."
   ]
  },
  {
   "cell_type": "code",
   "execution_count": 14,
   "id": "46998151",
   "metadata": {},
   "outputs": [],
   "source": [
    "# We create a list with all the course names\n",
    "course = data.index.tolist()\n",
    "\n",
    "# Then we create our binary decision variable, which will give a 1 if the elective is chosen and 0 if not.  \n",
    "electives = m.addVars(course, vtype = GRB.BINARY, name = \"electives\")"
   ]
  },
  {
   "cell_type": "markdown",
   "id": "b890197a",
   "metadata": {},
   "source": [
    "### Must-Have Constraints"
   ]
  },
  {
   "cell_type": "markdown",
   "id": "074b49b4",
   "metadata": {},
   "source": [
    "#### Stream Constraint\n",
    "\n",
    "This constraint describes the fact two different streams of the same elective cannot be selected, i.e. \"Advanced Competitive Strategy A\" and \"Advanced Competitive Strategy B\" cannot be both taken. To create this elective, we differentiate between elective 'name' and elective 'stream'. "
   ]
  },
  {
   "cell_type": "code",
   "execution_count": 15,
   "id": "eb6c3901",
   "metadata": {
    "scrolled": true
   },
   "outputs": [
    {
     "name": "stdout",
     "output_type": "stream",
     "text": [
      "12\n"
     ]
    }
   ],
   "source": [
    "from collections import Counter\n",
    "\n",
    "multi_stream_course = list(dict(filter(lambda elem: elem[1] > 1, \n",
    "                                       dict(Counter(data[\"Name\"].tolist())).items())).keys())\n",
    "print(len(multi_stream_course))"
   ]
  },
  {
   "cell_type": "markdown",
   "id": "802b31a7",
   "metadata": {},
   "source": [
    "The courses above have multiple streams for the same elective name. We can then set constraints on those by locating their index and setting the sum of these indices to less than or equal to 1, i.e. only one of them can be selected. In mathematical notation: \n",
    "\n",
    "$$ \\sum_{stream}x_{stream} \\leq 1 $$\n",
    "\n",
    "where $x_{stream}$ are decision variables of the electives that are the same electives but are just of different streams.\n",
    "\n",
    "*This constraint is used throughout our constraints creation, changing the type of electives evaluated within the summation by using different for loops.* \n",
    "\n",
    "In this case, the for loop helps us evaluate the sum of elective streams with the same name obtained from the `multi_stream_course` list created above. "
   ]
  },
  {
   "cell_type": "code",
   "execution_count": 16,
   "id": "65a77b53",
   "metadata": {},
   "outputs": [],
   "source": [
    "for name in multi_stream_course:\n",
    "    index = data[data[\"Name\"] == name].index\n",
    "    m.addConstr(quicksum(electives[s] for s in index) <= 1)"
   ]
  },
  {
   "cell_type": "markdown",
   "id": "b95cbcf9",
   "metadata": {},
   "source": [
    "### Timetable Constraint\n",
    "\n",
    "Following, we look for clashes in classes and set constraints so that our selected electives do not have a clashing schedule. \n",
    "\n",
    "Block weeks are hosted in weeks that are different from the rest so we can treat block weeks seperately from the rest electives. \n",
    "For other electives of other schedules, we create a sparse matrix that has binary values, indicating at what time these electives are held. \n",
    "Lastly, we also set a constraint on the terms, we cannot take more than 3 electives that are in the same term to prevent too much overload."
   ]
  },
  {
   "cell_type": "markdown",
   "id": "56ea75db",
   "metadata": {},
   "source": [
    "**Block Week**\n",
    "\n",
    "We cannot have a clash in block weeks, i.e. take two electives that are on the same block week.\n",
    "Using a for loop we evaluate all elective with a block week type teaching method. \n",
    "\n",
    "The constraint, in mathematical notation: \n",
    "\n",
    "$$ \\sum_{block}x_{block} \\leq 1 $$\n",
    "\n",
    "where $x_{block}$ are decision variables of the electives that have same block week number."
   ]
  },
  {
   "cell_type": "code",
   "execution_count": 17,
   "id": "de535839",
   "metadata": {},
   "outputs": [
    {
     "name": "stdout",
     "output_type": "stream",
     "text": [
      "5\n"
     ]
    }
   ],
   "source": [
    "# We create a list with all electives with block week numbers\n",
    "block_week_clashes = list(dict(filter(lambda elem: elem[1] > 1, \n",
    "                                      dict(Counter(data[\"Block Week Number\"].tolist())).items())).keys())\n",
    "print(len(block_week_clashes))\n",
    "\n",
    "for week_number in block_week_clashes:\n",
    "    index = data[data[\"Block Week Number\"] == week_number].index\n",
    "    m.addConstr(quicksum(electives[b] for b in index) <= 1)"
   ]
  },
  {
   "cell_type": "markdown",
   "id": "de0bf300",
   "metadata": {},
   "source": [
    "**Scheduling**\n",
    "\n",
    "We cannot have a clash in scheduled time of classes. We will make use of our sparse matrix here. It is important to note that we can have classes with the same schedule in the case that they are in different terms (spring or summer). The mathematical expression for the created constraint: \n",
    "\n",
    "$$ \\sum_{n \\in allCourses}x_n*s_{tc}\\leq 1 $$\n",
    "\n",
    "where $s_{tc}$ is a vector in the one-hot matrix representing the schedules of our classes, column names are all possible schedule times (separated by time of day, weekday and term)."
   ]
  },
  {
   "cell_type": "code",
   "execution_count": 18,
   "id": "83e889c6",
   "metadata": {
    "scrolled": true
   },
   "outputs": [
    {
     "name": "stdout",
     "output_type": "stream",
     "text": [
      "24\n",
      "3\n"
     ]
    }
   ],
   "source": [
    "class_schedules = ['Mon 8:15', 'Mon 12:45', 'Mon 16:00', 'Mon 19:00','Tue 8:15', 'Tue 12:45', 'Tue 16:00', \n",
    "                   'Tue 19:00', 'Wed 8:15', 'Wed 12:45', 'Wed 16:00', 'Wed 19:00', 'Thu 8:15', 'Thu 12:45', \n",
    "                   'Thu 16:00', 'Thu 19:00', 'Fri 8:15', 'Fri 12:45', 'Fri 16:00', 'Fri 19:00', 'Sat 8:15', \n",
    "                   'Sat 12:45', 'Sat 16:00', 'Sat 19:00']\n",
    "print(len(class_schedules))\n",
    "print(len(data[\"Term\"].unique().tolist()))\n",
    "\n",
    "for term in data[\"Term\"].unique().tolist():\n",
    "    index = data[data[\"Term\"] == term].index\n",
    "    m.addConstrs(quicksum(electives[i]*data.loc[i,j] for i in index) <= 1 for j in class_schedules)"
   ]
  },
  {
   "cell_type": "markdown",
   "id": "97eabb61",
   "metadata": {},
   "source": [
    "**Term**\n",
    "\n",
    "We cannot have more than 3 electives in a single term. The mathematial expression for the created constraint:\n",
    "\n",
    "$$ \\sum_{term}x_{term} \\leq 3 $$\n",
    "\n",
    "where $x_{term}$ are decision variables of the electives that are in the same term"
   ]
  },
  {
   "cell_type": "code",
   "execution_count": 19,
   "id": "19b63007",
   "metadata": {},
   "outputs": [],
   "source": [
    "for term in data[\"Term\"].unique().tolist():\n",
    "    index = data[data[\"Term\"] == term].index\n",
    "    m.addConstr(quicksum(electives[i] for i in index) <= 3)"
   ]
  },
  {
   "cell_type": "markdown",
   "id": "c7fd72c5",
   "metadata": {},
   "source": [
    "### Credit Constraint\n",
    "\n",
    "Here, we are setting the credit constraint. As a basis, we are setting it as not taking GIFTs nor the extra credit, therefore, we will be limited to 44 total credits.\n",
    "\n",
    "Furthermore, as we are not taking the extra credit, we will only be able to take 11 credit courses.\n",
    "\n",
    "The mathematial expression for the created constraint:\n",
    "\n",
    "$$ \\sum_{n \\in allCourses}x_{n} * credit_{n} \\leq 44 $$\n",
    "\n",
    "where $credit_n$ is the credit of elective $n$.\n",
    "\n",
    "We also need to set a constraint for not being able to select a 6 credit elective unless we choose to take the extra 6 credit. This constraint can be changed based on user preference, it will be no in default, and in mathematical terms:\n",
    "\n",
    "$$ \\sum_{extra}x_{extra} = 0 $$\n",
    "\n",
    "where $x_{extra}$ are decision variables of the 6 credit electives."
   ]
  },
  {
   "cell_type": "code",
   "execution_count": 20,
   "id": "3f14df89",
   "metadata": {},
   "outputs": [],
   "source": [
    "credit = 44\n",
    "\n",
    "# Constraint on total credit\n",
    "gift_credit = m.addConstr(quicksum(electives[i]*data.loc[i,\"Credit\"] for i in course) <= credit)\n",
    "\n",
    "# We cannot select 6 credit courses unless we choose to take the extra credit\n",
    "index = data[data[\"Credit\"] == 6].index\n",
    "extra_credit = m.addConstr(quicksum(electives[i] for i in index) == 0)"
   ]
  },
  {
   "cell_type": "markdown",
   "id": "624e5af7",
   "metadata": {},
   "source": [
    "## Preference Constraints\n",
    "\n",
    "The following part allows for addition constraints based on user preferences. There will be 4 choosable constraints:\n",
    "\n",
    "* Whether to take GIFTs\n",
    "\n",
    "* Whether to 6 Extra Credit electives\n",
    "\n",
    "* Subject Preferencs\n",
    "\n",
    "* Experience Preferences (Adding weights on particular questions)"
   ]
  },
  {
   "cell_type": "markdown",
   "id": "95cca21f",
   "metadata": {},
   "source": [
    "### GIFTs Constraint\n",
    "\n",
    "We can choose whether to take the GIFTs by change the variable \"gifts\" to \"Yes\" or \"No\"."
   ]
  },
  {
   "cell_type": "code",
   "execution_count": 21,
   "id": "f30d1329",
   "metadata": {},
   "outputs": [],
   "source": [
    "# Set if we are taking GIFTs\n",
    "#gifts = \"Yes\""
   ]
  },
  {
   "cell_type": "markdown",
   "id": "98b5ea10",
   "metadata": {},
   "source": [
    "### Extra Credit Constraint\n",
    "\n",
    "Likewise, we can choose whether to take the extra 6 credit electives by change the variable \"extra\" to \"Yes\" or \"No\"."
   ]
  },
  {
   "cell_type": "code",
   "execution_count": 22,
   "id": "2604a0a2",
   "metadata": {},
   "outputs": [],
   "source": [
    "# Set if we are taking Extra Credit\n",
    "#extra = \"No\""
   ]
  },
  {
   "cell_type": "markdown",
   "id": "5afe011a",
   "metadata": {},
   "source": [
    "### Add Constraints based on Credit Preferences\n",
    "\n",
    "This will change our credit constraint and whether we can select 6 credit course constraint based on selected preferences. Base on our preference in whether to take GIFTs or the extra 6 credit elective, we will be setting different constraints:\n",
    "\n",
    "If we are taking GIFTs and the extra 6 credit elective, we will be setting the following constraints:\n",
    "\n",
    "$$ \\sum_{n \\in allCourses}x_{n} * credit_{n} = 39 $$\n",
    "\n",
    "$$ \\sum_{extra}x_{extra} = 1 $$\n",
    "\n",
    "where $credit_n$ is the credit of elective $n$ and $x_{extra}$ are decision variables of the 6 credit electives.\n",
    "\n",
    "If we are taking GIFTs and not taking the extra 6 credit elective, we will be setting the following constraints:\n",
    "\n",
    "$$ \\sum_{n \\in allCourses}x_{n} * credit_{n} = 33 $$\n",
    "\n",
    "$$ \\sum_{extra}x_{extra} = 0 $$\n",
    "\n",
    "where $credit_n$ is the credit of elective $n$ and $x_{extra}$ are decision variables of the 6 credit electives.\n",
    "\n",
    "If we are not taking GIFTs but taking the extra 6 credit elective, we will be setting the following constraints:\n",
    "\n",
    "$$ \\sum_{n \\in allCourses}x_{n} * credit_{n} = 50 $$\n",
    "\n",
    "$$ \\sum_{extra}x_{extra} = 1 $$\n",
    "\n",
    "where $credit_n$ is the credit of elective $n$ and $x_{extra}$ are decision variables of the 6 credit electives.\n",
    "\n",
    "If we are not taking GIFTs and not taking the extra 6 credit elective, we will be setting the following constraints:\n",
    "\n",
    "$$ \\sum_{n \\in allCourses}x_{n} * credit_{n} = 44 $$\n",
    "\n",
    "$$ \\sum_{extra}x_{extra} = 0 $$\n",
    "\n",
    "where $credit_n$ is the credit of elective $n$ and $x_{extra}$ are decision variables of the 6 credit electives.\n"
   ]
  },
  {
   "cell_type": "code",
   "execution_count": 23,
   "id": "f81ef27a",
   "metadata": {},
   "outputs": [],
   "source": [
    "# Add constraints based on preferences\n",
    "m.remove(gift_credit)\n",
    "m.remove(extra_credit)\n",
    "index = data[data[\"Credit\"] == 6].index\n",
    "\n",
    "if gifts == \"Yes\" and extra == \"Yes\":\n",
    "    # Credit Constraints\n",
    "    credit = 39\n",
    "    m.addConstr(quicksum(electives[i]*data.loc[i,\"Credit\"] for i in course) == credit)\n",
    "    # 6 Credit Course Constraint\n",
    "    m.addConstr(quicksum(electives[i] for i in index) == 1)\n",
    "    \n",
    "elif gifts == \"Yes\" and extra == \"No\":\n",
    "    # Credit Constraints\n",
    "    credit = 33\n",
    "    m.addConstr(quicksum(electives[i]*data.loc[i,\"Credit\"] for i in course) == credit)\n",
    "    # 6 Credit Course Constraint\n",
    "    m.addConstr(quicksum(electives[i] for i in index) == 0)\n",
    "    \n",
    "elif gifts == \"No\" and extra == \"Yes\":\n",
    "    # Credit Constraints\n",
    "    credit = 50\n",
    "    m.addConstr(quicksum(electives[i]*data.loc[i,\"Credit\"] for i in course) == credit)\n",
    "    # 6 Credit Course Constraint\n",
    "    m.addConstr(quicksum(electives[i] for i in index) == 1)\n",
    "    \n",
    "elif gifts == \"No\" and extra == \"No\":\n",
    "    # Credit Constraints\n",
    "    credit = 44\n",
    "    m.addConstr(quicksum(electives[i]*data.loc[i,\"Credit\"] for i in course) == credit)\n",
    "    # 6 Credit Course Constraint\n",
    "    m.addConstr(quicksum(electives[i] for i in index) == 0)"
   ]
  },
  {
   "cell_type": "markdown",
   "id": "495c8752",
   "metadata": {},
   "source": [
    "### Subject Preference Constraint\n",
    "\n",
    "Here, we can specific our subject preference to get more personalized elective selections. For our selected subject preference, we will assign at least half of the credits to that selected subject. In mathematical notations:\n",
    "\n",
    "$$ \\sum_{subject}x_{subject} * credit_{n} \\geq \\frac{TotalCredit}{2} $$\n",
    "\n",
    "where $x_{subject}$ are the decision variables of electives in our preferred subject."
   ]
  },
  {
   "cell_type": "code",
   "execution_count": 24,
   "id": "28534cb8",
   "metadata": {},
   "outputs": [],
   "source": [
    "#subject = \"Marketing\"\n",
    "\n",
    "if subject != \"All\":\n",
    "    index = data[data[\"Subject\"] == subject].index\n",
    "    m.addConstr(quicksum(electives[i]*data.loc[i,\"Credit\"] for i in index) >= credit/2)"
   ]
  },
  {
   "cell_type": "markdown",
   "id": "6e6557c8",
   "metadata": {},
   "source": [
    "## Objective"
   ]
  },
  {
   "cell_type": "markdown",
   "id": "4d3b5368",
   "metadata": {},
   "source": [
    "### Experience Preference\n",
    "\n",
    "We are also able to select our preferred experience from our selected electives. This will affect our objective function that we are maximising. The experiences can be quantified by the evaluation questions asked:\n",
    "\n",
    "1. Overall, how much do you think you have learnt from the course?\n",
    "\n",
    "2. How well do you believe the course met its stated objectives?\n",
    "\n",
    "3. How would you rate the overall effectiveness of the faculty?\n",
    "\n",
    "4. How would you rate the timeliness of the feedback on course work/assignments from the instructors?\n",
    "\n",
    "5. To what extent did the faculty provide useful feedback on course work/assignments?\n",
    "\n",
    "6. How well did the faculty manage high quality standards for class participation?\n",
    "\n",
    "7. How much previous knowledge of the subject did you have?\n",
    "\n",
    "For example, if we enjoy class participation in class and we want electives that allows for that, we can only optimize based on the evaluation score of Q6 in our objective function.\n",
    "\n",
    "We group our questions into 4 different experiences that we can choose from:\n",
    "\n",
    "* Learning Experience: Q1, Q2, Q3\n",
    "\n",
    "* Coursework: Q4, Q5\n",
    "\n",
    "* Class Participation: Q6\n",
    "\n",
    "* Prior Knowledge: Q7\n",
    "\n"
   ]
  },
  {
   "cell_type": "code",
   "execution_count": 25,
   "id": "eed0dcc3",
   "metadata": {},
   "outputs": [],
   "source": [
    "#experience = \"Coursework\"\n",
    "\n",
    "if experience == \"Overall\":\n",
    "    weight_dict = {\"Q1\":1, \"Q2\":1, \"Q3\":1, \"Q4\":1, \"Q5\":1, \"Q6\":1, \"Q7\":1}\n",
    "elif experience == \"Learning Experience\":\n",
    "    weight_dict = {\"Q1\":1, \"Q2\":1, \"Q3\":1, \"Q4\":0, \"Q5\":0, \"Q6\":0, \"Q7\":0}\n",
    "elif experience == \"Coursework\":\n",
    "    weight_dict = {\"Q1\":0, \"Q2\":0, \"Q3\":0, \"Q4\":1, \"Q5\":1, \"Q6\":0, \"Q7\":0}\n",
    "elif experience == \"Class Participation\":\n",
    "    weight_dict = {\"Q1\":0, \"Q2\":0, \"Q3\":0, \"Q4\":0, \"Q5\":0, \"Q6\":1, \"Q7\":0}\n",
    "elif experience == \"Prior Knowledge\":\n",
    "    weight_dict = {\"Q1\":0, \"Q2\":0, \"Q3\":0, \"Q4\":0, \"Q5\":0, \"Q6\":0, \"Q7\":1}"
   ]
  },
  {
   "cell_type": "markdown",
   "id": "68a4c924",
   "metadata": {},
   "source": [
    "With the question weight dictionary that are specify by our experience preference, we will then define our objective function based on the evaluation score. We will be maximising the following equation:\n",
    "\n",
    "$$ \\sum_{n \\in courses}  x_{n} \\left[ \\left(\\sum_{Q1 - Q6} weightDictionary * evaluationScore \\right) - weightDictionary_{Q7} * evaluationScore_{Q7} \\right] $$\n",
    "\n",
    "where $weightDicitionary$ is obtained based on our experience preference.\n",
    "\n",
    "We choose to minus evaluation score for Q7 because it is better that an elective requires less previous knowledge."
   ]
  },
  {
   "cell_type": "code",
   "execution_count": 26,
   "id": "f9869c05",
   "metadata": {},
   "outputs": [],
   "source": [
    "questions = [\"Q1\",\"Q2\",\"Q3\",\"Q4\",\"Q5\",\"Q6\"]\n",
    "\n",
    "m.setObjective(quicksum(data.loc[j,i]*electives[j]*weight_dict[i] for i in questions for j in course)-\n",
    "               quicksum(data.loc[j,\"Q7\"]*electives[j]*weight_dict[\"Q7\"] for j in course),\n",
    "               GRB.MAXIMIZE)"
   ]
  },
  {
   "cell_type": "markdown",
   "id": "0de03973",
   "metadata": {},
   "source": [
    "# Optimize and Results\n",
    "\n",
    "With the constraints, we can then optimize to get the best portfolio of electives based on our objection function."
   ]
  },
  {
   "cell_type": "code",
   "execution_count": 27,
   "id": "79a0dc0a",
   "metadata": {},
   "outputs": [
    {
     "name": "stdout",
     "output_type": "stream",
     "text": [
      "\n",
      "Average Overall Evaluation Score: 5.2245\n"
     ]
    }
   ],
   "source": [
    "def printSolution():\n",
    "    if m.status == GRB.OPTIMAL:\n",
    "        if experience == \"Overall\":\n",
    "            if credit == 33:\n",
    "                print('\\nAverage Overall Evaluation Score: %g' % (m.objVal/(5*3)))\n",
    "            elif credit == 39 or credit == 44:\n",
    "                print('\\nAverage Overall Evaluation Score: %g' % (m.objVal/(5*4)))\n",
    "            elif credit == 50:\n",
    "                print('\\nAverage Overall Evaluation Score: %g' % (m.objVal/(5*5)))\n",
    "        elif experience == \"Learning Experience\":\n",
    "            if credit == 33:\n",
    "                print('\\nAverage Learning Experience Evaluation Score: %g' % (m.objVal/(3*3)))\n",
    "            elif credit == 39 or credit == 44:\n",
    "                print('\\nAverage Learning Experience Evaluation Score: %g' % (m.objVal/(3*4)))\n",
    "            elif credit == 50:\n",
    "                print('\\nAverage Learning Experience Evaluation Score: %g' % (m.objVal/(3*5)))\n",
    "        elif experience == \"Coursework\":\n",
    "            if credit == 33:\n",
    "                print('\\nAverage Coursework Evaluation Score: %g' % (m.objVal/(2*3)))\n",
    "            elif credit == 39 or credit == 44:\n",
    "                print('\\nAverage Coursework Evaluation Score: %g' % (m.objVal/(2*4)))\n",
    "            elif credit == 50:\n",
    "                print('\\nAverage Coursework Evaluation Score: %g' % (m.objVal/(2*5)))\n",
    "        elif experience == \"Class Participation\":\n",
    "            if credit == 33:\n",
    "                print('\\nAverage Class Participation Evaluation Score: %g' % (m.objVal/(1*3)))\n",
    "            elif credit == 39 or credit == 44:\n",
    "                print('\\nAverage Class Participation Evaluation Score: %g' % (m.objVal/(1*4)))\n",
    "            elif credit == 50:\n",
    "                print('\\nAverage Class Participation Evaluation Score: %g' % (m.objVal/(1*5)))\n",
    "        elif experience == \"Prior Knowledge\":\n",
    "            if credit == 33:\n",
    "                print('\\nAverage Prior Knowledge Evaluation Score: %g' % (-m.objVal/(1*3)))\n",
    "            elif credit == 39 or credit == 44:\n",
    "                print('\\nAverage Prior Knowledge Evaluation Score: %g' % (-m.objVal/(1*4)))\n",
    "            elif credit == 50:\n",
    "                print('\\nAverage Prior Knowledge Evaluation Score: %g' % (-m.objVal/(1*5)))\n",
    "    else:\n",
    "        print('No solution:', m.status)\n",
    "\n",
    "m.setParam('OutputFlag', 0)\n",
    "m.optimize()\n",
    "printSolution()"
   ]
  },
  {
   "cell_type": "code",
   "execution_count": 28,
   "id": "60dd49b4",
   "metadata": {
    "scrolled": true
   },
   "outputs": [
    {
     "data": {
      "text/plain": [
       "['Behavioural Economics and Decision Making ',\n",
       " 'Customer and Marketing Analytics ',\n",
       " 'Innovation for Impact ',\n",
       " 'Negotiation & Bargaining M']"
      ]
     },
     "execution_count": 28,
     "metadata": {},
     "output_type": "execute_result"
    }
   ],
   "source": [
    "(np.array(course)[[i for i, j in enumerate(m.getAttr(\"x\", electives.values())) if j == 1]]).tolist()"
   ]
  },
  {
   "cell_type": "markdown",
   "id": "b02b164f",
   "metadata": {},
   "source": [
    "# Optimize and Results\n",
    "\n",
    "Here we run a loop to get results from every single possible preference to get a dataset for our dashboard building."
   ]
  },
  {
   "cell_type": "code",
   "execution_count": 29,
   "id": "8893cb83",
   "metadata": {},
   "outputs": [],
   "source": [
    "def get_electives(gifts, extra, subject, experience):\n",
    "    # Build model\n",
    "    m = gp.Model(\"electives\")\n",
    "    \n",
    "    # Decision variables\n",
    "    electives = m.addVars(course, vtype = GRB.BINARY, name = \"electives\")\n",
    "    \n",
    "    # Must constraints\n",
    "    multi_stream_course = list(dict(filter(lambda elem: elem[1] > 1, \n",
    "                                           dict(Counter(data[\"Name\"].tolist())).items())).keys())\n",
    "    for name in multi_stream_course:\n",
    "        index = data[data[\"Name\"] == name].index\n",
    "        m.addConstr(quicksum(electives[s] for s in index) <= 1)\n",
    "        \n",
    "    block_week_clashes = list(dict(filter(lambda elem: elem[1] > 1, \n",
    "                                          dict(Counter(data[\"Block Week Number\"].tolist())).items())).keys())\n",
    "    for week_number in block_week_clashes:\n",
    "        index = data[data[\"Block Week Number\"] == week_number].index\n",
    "        m.addConstr(quicksum(electives[b] for b in index) <= 1)\n",
    "        \n",
    "    for term in data[\"Term\"].unique().tolist():\n",
    "        index = data[data[\"Term\"] == term].index\n",
    "        m.addConstrs(quicksum(electives[i]*data.loc[i,j] for i in index) <= 1 for j in class_schedules)\n",
    "    \n",
    "    for term in data[\"Term\"].unique().tolist():\n",
    "        index = data[data[\"Term\"] == term].index\n",
    "        m.addConstr(quicksum(electives[i] for i in index) <= 3)\n",
    "    \n",
    "    # Preference constraints\n",
    "    index = data[data[\"Credit\"] == 6].index\n",
    "    if gifts == \"Yes\" and extra == \"Yes\":\n",
    "        # Credit Constraints\n",
    "        credit = 39\n",
    "        m.addConstr(quicksum(electives[i]*data.loc[i,\"Credit\"] for i in course) == credit)\n",
    "        # 6 Credit Course Constraint\n",
    "        m.addConstr(quicksum(electives[i] for i in index) == 1)\n",
    "\n",
    "    elif gifts == \"Yes\" and extra == \"No\":\n",
    "        # Credit Constraints\n",
    "        credit = 33\n",
    "        m.addConstr(quicksum(electives[i]*data.loc[i,\"Credit\"] for i in course) == credit)\n",
    "        # 6 Credit Course Constraint\n",
    "        m.addConstr(quicksum(electives[i] for i in index) == 0)\n",
    "\n",
    "    elif gifts == \"No\" and extra == \"Yes\":\n",
    "        # Credit Constraints\n",
    "        credit = 50\n",
    "        m.addConstr(quicksum(electives[i]*data.loc[i,\"Credit\"] for i in course) == credit)\n",
    "        # 6 Credit Course Constraint\n",
    "        m.addConstr(quicksum(electives[i] for i in index) == 1)\n",
    "\n",
    "    elif gifts == \"No\" and extra == \"No\":\n",
    "        # Credit Constraints\n",
    "        credit = 44\n",
    "        m.addConstr(quicksum(electives[i]*data.loc[i,\"Credit\"] for i in course) == credit)\n",
    "        # 6 Credit Course Constraint\n",
    "        m.addConstr(quicksum(electives[i] for i in index) == 0)\n",
    "        \n",
    "    if subject != \"All\":\n",
    "        index = data[data[\"Subject\"] == subject].index\n",
    "        m.addConstr(quicksum(electives[i]*data.loc[i,\"Credit\"] for i in index) >= credit/2)\n",
    "    \n",
    "    if experience == \"Overall\":\n",
    "        weight_dict = {\"Q1\":1, \"Q2\":1, \"Q3\":1, \"Q4\":1, \"Q5\":1, \"Q6\":1, \"Q7\":1}\n",
    "    elif experience == \"Learning Experience\":\n",
    "        weight_dict = {\"Q1\":1, \"Q2\":1, \"Q3\":1, \"Q4\":0, \"Q5\":0, \"Q6\":0, \"Q7\":0}\n",
    "    elif experience == \"Coursework\":\n",
    "        weight_dict = {\"Q1\":0, \"Q2\":0, \"Q3\":0, \"Q4\":1, \"Q5\":1, \"Q6\":0, \"Q7\":0}\n",
    "    elif experience == \"Class Participation\":\n",
    "        weight_dict = {\"Q1\":0, \"Q2\":0, \"Q3\":0, \"Q4\":0, \"Q5\":0, \"Q6\":1, \"Q7\":0}\n",
    "    elif experience == \"Prior Knowledge\":\n",
    "        weight_dict = {\"Q1\":0, \"Q2\":0, \"Q3\":0, \"Q4\":0, \"Q5\":0, \"Q6\":0, \"Q7\":1}\n",
    "    \n",
    "    # Objective function\n",
    "    m.setObjective(quicksum(data.loc[j,i]*electives[j]*weight_dict[i]/7 for i in questions for j in course)-\n",
    "                   quicksum(data.loc[j,\"Q7\"]*electives[j]*weight_dict[\"Q7\"]/7 for j in course),\n",
    "                   GRB.MAXIMIZE)\n",
    "    m.setParam('OutputFlag', 0)\n",
    "    m.optimize()\n",
    "    \n",
    "    if m.status == GRB.OPTIMAL:\n",
    "        return (np.array(course)[[i for i, j in enumerate(m.getAttr(\"x\", electives.values())) if j == 1]]).tolist()\n",
    "    else:\n",
    "        return []"
   ]
  },
  {
   "cell_type": "code",
   "execution_count": 30,
   "id": "94c3d6f1",
   "metadata": {},
   "outputs": [],
   "source": [
    "df = pd.DataFrame(columns=['GIFTs','Extra','Subject','Experience',\n",
    "                           'Elective1','Elective2','Elective3','Elective4','Elective5'])\n",
    "\n",
    "for a in [\"Yes\", \"No\"]:\n",
    "    for b in [\"Yes\", \"No\"]:\n",
    "        for c in ['Strategy & Entrepreneurship', 'Marketing', 'Finance', 'Management Science & Operations', \n",
    "                  'Organisational Behaviour', 'Accounting', 'Economics']:\n",
    "            for d in ['Overall', 'Learning Experience', 'Coursework', 'Class Participation', 'Prior Knowledge']:\n",
    "                temp = get_electives(a,b,c,d)\n",
    "                \n",
    "                try:\n",
    "                    Elective1 = temp[0]\n",
    "                except:\n",
    "                    Elective1 = np.NaN\n",
    "                    \n",
    "                try:\n",
    "                    Elective2 = temp[1]\n",
    "                except:\n",
    "                    Elective2 = np.NaN\n",
    "                    \n",
    "                try:\n",
    "                    Elective3 = temp[2]\n",
    "                except:\n",
    "                    Elective3 = np.NaN\n",
    "                \n",
    "                try:\n",
    "                    Elective4 = temp[3]\n",
    "                except:\n",
    "                    Elective4 = np.NaN\n",
    "                    \n",
    "                try:\n",
    "                    Elective5 = temp[4]\n",
    "                except:\n",
    "                    Elective5 = np.NaN\n",
    "                \n",
    "                new_row = {'GIFTs':a, 'Extra':b, 'Subject':c, 'Experience':d, \n",
    "                           'Elective1':Elective1, 'Elective2':Elective2, 'Elective3':Elective3,\n",
    "                           'Elective4':Elective4, 'Elective5':Elective5}\n",
    "                df = df.append(new_row, ignore_index=True)\n",
    "                "
   ]
  },
  {
   "cell_type": "code",
   "execution_count": 31,
   "id": "cf49c809",
   "metadata": {
    "scrolled": true
   },
   "outputs": [
    {
     "data": {
      "text/html": [
       "<div>\n",
       "<style scoped>\n",
       "    .dataframe tbody tr th:only-of-type {\n",
       "        vertical-align: middle;\n",
       "    }\n",
       "\n",
       "    .dataframe tbody tr th {\n",
       "        vertical-align: top;\n",
       "    }\n",
       "\n",
       "    .dataframe thead th {\n",
       "        text-align: right;\n",
       "    }\n",
       "</style>\n",
       "<table border=\"1\" class=\"dataframe\">\n",
       "  <thead>\n",
       "    <tr style=\"text-align: right;\">\n",
       "      <th></th>\n",
       "      <th>GIFTs</th>\n",
       "      <th>Extra</th>\n",
       "      <th>Subject</th>\n",
       "      <th>Experience</th>\n",
       "      <th>Elective1</th>\n",
       "      <th>Elective2</th>\n",
       "      <th>Elective3</th>\n",
       "      <th>Elective4</th>\n",
       "      <th>Elective5</th>\n",
       "    </tr>\n",
       "  </thead>\n",
       "  <tbody>\n",
       "    <tr>\n",
       "      <th>0</th>\n",
       "      <td>Yes</td>\n",
       "      <td>Yes</td>\n",
       "      <td>Strategy &amp; Entrepreneurship</td>\n",
       "      <td>Overall</td>\n",
       "      <td>Advanced Competitive Strategy A</td>\n",
       "      <td>Customer and Marketing Analytics</td>\n",
       "      <td>Negotiation &amp; Bargaining M</td>\n",
       "      <td>Strategic Innovation B</td>\n",
       "      <td>NaN</td>\n",
       "    </tr>\n",
       "    <tr>\n",
       "      <th>1</th>\n",
       "      <td>Yes</td>\n",
       "      <td>Yes</td>\n",
       "      <td>Strategy &amp; Entrepreneurship</td>\n",
       "      <td>Learning Experience</td>\n",
       "      <td>Advanced Competitive Strategy A</td>\n",
       "      <td>Customer and Marketing Analytics</td>\n",
       "      <td>Strategic Innovation B</td>\n",
       "      <td>Value Investing B</td>\n",
       "      <td>NaN</td>\n",
       "    </tr>\n",
       "    <tr>\n",
       "      <th>2</th>\n",
       "      <td>Yes</td>\n",
       "      <td>Yes</td>\n",
       "      <td>Strategy &amp; Entrepreneurship</td>\n",
       "      <td>Coursework</td>\n",
       "      <td>Innovation for Impact</td>\n",
       "      <td>Luxury Strategy</td>\n",
       "      <td>Measuring Impact in the Digital Economy</td>\n",
       "      <td>Strategic Innovation B</td>\n",
       "      <td>NaN</td>\n",
       "    </tr>\n",
       "    <tr>\n",
       "      <th>3</th>\n",
       "      <td>Yes</td>\n",
       "      <td>Yes</td>\n",
       "      <td>Strategy &amp; Entrepreneurship</td>\n",
       "      <td>Class Participation</td>\n",
       "      <td>Entrepreneurship in Emerging Markets</td>\n",
       "      <td>Measuring Impact in the Digital Economy</td>\n",
       "      <td>Pathways to Start-up Success B</td>\n",
       "      <td>Value Investing B</td>\n",
       "      <td>NaN</td>\n",
       "    </tr>\n",
       "    <tr>\n",
       "      <th>4</th>\n",
       "      <td>Yes</td>\n",
       "      <td>Yes</td>\n",
       "      <td>Strategy &amp; Entrepreneurship</td>\n",
       "      <td>Prior Knowledge</td>\n",
       "      <td>Advanced Competitive Strategy A</td>\n",
       "      <td>Customer Analytics Tools for Marketing Decisions</td>\n",
       "      <td>Elements of Machine Learning for Business</td>\n",
       "      <td>Financing the Entrepreneurial Business</td>\n",
       "      <td>NaN</td>\n",
       "    </tr>\n",
       "  </tbody>\n",
       "</table>\n",
       "</div>"
      ],
      "text/plain": [
       "  GIFTs Extra                      Subject           Experience  \\\n",
       "0   Yes   Yes  Strategy & Entrepreneurship              Overall   \n",
       "1   Yes   Yes  Strategy & Entrepreneurship  Learning Experience   \n",
       "2   Yes   Yes  Strategy & Entrepreneurship           Coursework   \n",
       "3   Yes   Yes  Strategy & Entrepreneurship  Class Participation   \n",
       "4   Yes   Yes  Strategy & Entrepreneurship      Prior Knowledge   \n",
       "\n",
       "                               Elective1  \\\n",
       "0        Advanced Competitive Strategy A   \n",
       "1        Advanced Competitive Strategy A   \n",
       "2                 Innovation for Impact    \n",
       "3  Entrepreneurship in Emerging Markets    \n",
       "4        Advanced Competitive Strategy A   \n",
       "\n",
       "                                           Elective2  \\\n",
       "0                  Customer and Marketing Analytics    \n",
       "1                  Customer and Marketing Analytics    \n",
       "2                                   Luxury Strategy    \n",
       "3           Measuring Impact in the Digital Economy    \n",
       "4  Customer Analytics Tools for Marketing Decisions    \n",
       "\n",
       "                                    Elective3  \\\n",
       "0                  Negotiation & Bargaining M   \n",
       "1                      Strategic Innovation B   \n",
       "2    Measuring Impact in the Digital Economy    \n",
       "3              Pathways to Start-up Success B   \n",
       "4  Elements of Machine Learning for Business    \n",
       "\n",
       "                                 Elective4 Elective5  \n",
       "0                   Strategic Innovation B       NaN  \n",
       "1                        Value Investing B       NaN  \n",
       "2                   Strategic Innovation B       NaN  \n",
       "3                        Value Investing B       NaN  \n",
       "4  Financing the Entrepreneurial Business        NaN  "
      ]
     },
     "execution_count": 31,
     "metadata": {},
     "output_type": "execute_result"
    }
   ],
   "source": [
    "df.to_csv(\"Elective_Selection.csv\",index=False)\n",
    "df.head()"
   ]
  }
 ],
 "metadata": {
  "kernelspec": {
   "display_name": "Python 3 (ipykernel)",
   "language": "python",
   "name": "python3"
  },
  "language_info": {
   "codemirror_mode": {
    "name": "ipython",
    "version": 3
   },
   "file_extension": ".py",
   "mimetype": "text/x-python",
   "name": "python",
   "nbconvert_exporter": "python",
   "pygments_lexer": "ipython3",
   "version": "3.9.7"
  }
 },
 "nbformat": 4,
 "nbformat_minor": 5
}
